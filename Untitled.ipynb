{
 "cells": [
  {
   "cell_type": "code",
   "execution_count": 1,
   "id": "f37d1b2a-306e-4d3d-b2df-6e52dab84afb",
   "metadata": {},
   "outputs": [],
   "source": [
    "import glob\n",
    "import os\n",
    "import sys\n",
    "import pdb\n",
    "import os.path as osp\n",
    "sys.path.append(os.getcwd())\n"
   ]
  },
  {
   "cell_type": "code",
   "execution_count": 6,
   "id": "489d1faa-d7b9-4951-a626-8d57b03c2ff0",
   "metadata": {},
   "outputs": [
    {
     "name": "stdout",
     "output_type": "stream",
     "text": [
      "\"back.bkl\": [250, 150, 1, 1000],\n",
      "\"back.bkr\": [250, 150, 1, 1000],\n",
      "\"head.nkz\": [250, 150, 1, 1000],\n",
      "\"larm.wbd\": [250, 150, 1, 1000],\n",
      "\"larm.ft\": [250, 150, 1, 1000],\n",
      "\"lleg.aki\": [250, 150, 1, 1000],\n",
      "\"lleg.kn_act_out\": [250, 150, 1, 1000],\n",
      "\"lleg.ako\": [250, 150, 1, 1000],\n",
      "\"larm.el\": [250, 150, 1, 1000],\n",
      "\"lleg.hpx\": [250, 150, 1, 1000],\n",
      "\"larm.shx\": [250, 150, 1, 1000],\n",
      "\"larm.wbp\": [250, 150, 1, 1000],\n",
      "\"larm.shz\": [250, 150, 1, 1000],\n",
      "\"lleg.hpy\": [250, 150, 1, 1000],\n",
      "\"lleg.hpz\": [250, 150, 1, 1000],\n",
      "\"larm.shy\": [250, 150, 1, 1000],\n",
      "\"back.bkz\": [250, 150, 1, 1000],\n",
      "\"rarm.wbd\": [250, 150, 1, 1000],\n",
      "\"rarm.ft\": [250, 150, 1, 1000],\n",
      "\"rleg.aki\": [250, 150, 1, 1000],\n",
      "\"rleg.kn_act_out\": [250, 150, 1, 1000],\n",
      "\"rleg.ako\": [250, 150, 1, 1000],\n",
      "\"rarm.el\": [250, 150, 1, 1000],\n",
      "\"rleg.hpx\": [250, 150, 1, 1000],\n",
      "\"rarm.shx\": [250, 150, 1, 1000],\n",
      "\"rarm.wbp\": [250, 150, 1, 1000],\n",
      "\"rarm.shz\": [250, 150, 1, 1000],\n",
      "\"rleg.hpy\": [250, 150, 1, 1000],\n",
      "\"rleg.hpz\": [250, 150, 1, 1000],\n",
      "\"rarm.shy\": [250, 150, 1, 1000],\n"
     ]
    }
   ],
   "source": [
    "actuators = ['back.bkl', 'back.bkr', 'head.nkz', 'larm.wbd', 'larm.ft', 'lleg.aki', 'lleg.kn_act_out', 'lleg.ako', 'larm.el', 'lleg.hpx', 'larm.shx', 'larm.wbp', 'larm.shz', 'lleg.hpy', 'lleg.hpz', 'larm.shy', 'back.bkz', 'rarm.wbd', 'rarm.ft', 'rleg.aki', 'rleg.kn_act_out', 'rleg.ako', 'rarm.el', 'rleg.hpx', 'rarm.shx', 'rarm.wbp', 'rarm.shz', 'rleg.hpy', 'rleg.hpz', 'rarm.shy']\n",
    "\n",
    "\n",
    "for act in actuators:\n",
    "    print(f'\"{act}\": [250, 150, 1, 1000],')\n",
    "    "
   ]
  },
  {
   "cell_type": "code",
   "execution_count": null,
   "id": "5d4786d9-010f-47fe-9198-4fa84db0556e",
   "metadata": {},
   "outputs": [],
   "source": []
  }
 ],
 "metadata": {
  "kernelspec": {
   "display_name": "Python [conda env:mjx]",
   "language": "python",
   "name": "conda-env-mjx-py"
  },
  "language_info": {
   "codemirror_mode": {
    "name": "ipython",
    "version": 3
   },
   "file_extension": ".py",
   "mimetype": "text/x-python",
   "name": "python",
   "nbconvert_exporter": "python",
   "pygments_lexer": "ipython3",
   "version": "3.9.18"
  }
 },
 "nbformat": 4,
 "nbformat_minor": 5
}
